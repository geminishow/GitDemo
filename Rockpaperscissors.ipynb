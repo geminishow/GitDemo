{
  "nbformat": 4,
  "nbformat_minor": 0,
  "metadata": {
    "colab": {
      "provenance": [],
      "authorship_tag": "ABX9TyNgB5ebSNyVl3StNHkNjFp3",
      "include_colab_link": true
    },
    "kernelspec": {
      "name": "python3",
      "display_name": "Python 3"
    },
    "language_info": {
      "name": "python"
    }
  },
  "cells": [
    {
      "cell_type": "markdown",
      "metadata": {
        "id": "view-in-github",
        "colab_type": "text"
      },
      "source": [
        "<a href=\"https://colab.research.google.com/github/geminishow/GitDemo/blob/main/Rockpaperscissors.ipynb\" target=\"_parent\"><img src=\"https://colab.research.google.com/assets/colab-badge.svg\" alt=\"Open In Colab\"/></a>"
      ]
    },
    {
      "cell_type": "code",
      "execution_count": 8,
      "metadata": {
        "colab": {
          "base_uri": "https://localhost:8080/"
        },
        "id": "YRjK-CVIZS8i",
        "outputId": "37b1dc6e-ee47-40a6-a5ea-b4a16b5bedba"
      },
      "outputs": [
        {
          "output_type": "stream",
          "name": "stdout",
          "text": [
            "Welcome to Rock Paper Scissors!\n",
            "what do you choose?Type 0 for Rock,1 for paper or 2 for scissors5\n",
            "you chose a wrong number,chose again!\n"
          ]
        }
      ],
      "source": [
        "rock = '''\n",
        "    _______\n",
        "---'   ____)\n",
        "      (_____)\n",
        "      (_____)\n",
        "      (____)\n",
        "---.__(___)\n",
        "'''\n",
        "\n",
        "paper = '''\n",
        "    _______\n",
        "---'   ____)____\n",
        "          ______)\n",
        "          _______)\n",
        "         _______)\n",
        "---.__________)\n",
        "'''\n",
        "\n",
        "scissors = '''\n",
        "    _______\n",
        "---'   ____)____\n",
        "          ______)\n",
        "       __________)\n",
        "      (____)\n",
        "---.__(___)\n",
        "'''\n",
        "\n",
        "#Write your code below this line 👇\n",
        "import random\n",
        "print(\"Welcome to Rock Paper Scissors!\")\n",
        "choice=int(input(\"what do you choose?Type 0 for Rock,1 for paper or 2 for scissors\" ))\n",
        "if choice==0:\n",
        "\n",
        "  print(rock)\n",
        "  x=random.randint(0,2)\n",
        "  if x==1:\n",
        "    print(\"computer chose:\\n\"+ paper)\n",
        "    print(\"computer wins\")\n",
        "  elif x==2:\n",
        "    print(\"computer chose:\\n\"+ scissors)\n",
        "    print(\"You win\")\n",
        "  elif x==0:\n",
        "    print(\"Game draws\")\n",
        "\n",
        "\n",
        "\n",
        "elif choice==1:\n",
        "  print(paper)\n",
        "  x=random.randint(0,2)\n",
        "  if x==0:\n",
        "    print(\"computer choice:\\n\"+ rock)\n",
        "    print(\"You wins\")\n",
        "  elif x==2:\n",
        "    print(\"computer choice:\\n\"+ scissors)\n",
        "    print(\"computer win\")\n",
        "  elif x==1:\n",
        "    print(\"Game Draws\")\n",
        "\n",
        "\n",
        "\n",
        "\n",
        "elif choice==2:\n",
        "  print(scissors)\n",
        "  x=random.randint(0,2)\n",
        "  if x==0:\n",
        "    print(\"computer choice:\\n\"+ rock)\n",
        "    print(\"computer wins\")\n",
        "  elif x==1:\n",
        "    print(\"computer choice:\\n\"+ paper)\n",
        "    print(\"you win\")\n",
        "  elif x==2:\n",
        "    print(\"Game Draws\")\n",
        "\n",
        "if choice>2:\n",
        "  print(\"you chose a wrong number,chose again!\")\n",
        "\n",
        "\n"
      ]
    }
  ]
}